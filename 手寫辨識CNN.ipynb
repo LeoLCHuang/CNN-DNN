{
  "nbformat": 4,
  "nbformat_minor": 0,
  "metadata": {
    "colab": {
      "provenance": [],
      "gpuType": "T4"
    },
    "kernelspec": {
      "name": "python3",
      "display_name": "Python 3"
    },
    "language_info": {
      "name": "python"
    },
    "accelerator": "GPU"
  },
  "cells": [
    {
      "cell_type": "code",
      "execution_count": 2,
      "metadata": {
        "id": "8BZz8-EesY8d"
      },
      "outputs": [],
      "source": [
        "import torch\n",
        "from torch.utils import data as data_\n",
        "import torch.nn as nn\n",
        "from torch.autograd import Variable\n",
        "import matplotlib.pyplot as plt\n",
        "import torchvision\n",
        "from torch.utils.data import DataLoader"
      ]
    },
    {
      "cell_type": "code",
      "source": [
        "n_epochs = 3\n",
        "batch_size_train = 64\n",
        "batch_size_test = 1000\n",
        "learning_rate = 0.01\n",
        "momentum = 0.5\n",
        "log_interval = 10\n",
        "random_seed = 1\n",
        "torch.manual_seed(random_seed)"
      ],
      "metadata": {
        "colab": {
          "base_uri": "https://localhost:8080/"
        },
        "id": "rtRKiLc3s0Qz",
        "outputId": "d0297e5a-547b-411b-9792-f3669e81be71"
      },
      "execution_count": 17,
      "outputs": [
        {
          "output_type": "execute_result",
          "data": {
            "text/plain": [
              "<torch._C.Generator at 0x7eac4234f870>"
            ]
          },
          "metadata": {},
          "execution_count": 17
        }
      ]
    },
    {
      "cell_type": "code",
      "source": [
        "#下載資料\n",
        "train_loader = torch.utils.data.DataLoader(\n",
        "    torchvision.datasets.MNIST('./data/', train=True, download=True,\n",
        "                               transform=torchvision.transforms.Compose([\n",
        "                                   torchvision.transforms.ToTensor(),\n",
        "                                   torchvision.transforms.Normalize(\n",
        "                                       (0.1307,), (0.3081,))\n",
        "                               ])),\n",
        "    batch_size=batch_size_train, shuffle=True)\n",
        "test_loader = torch.utils.data.DataLoader(\n",
        "    torchvision.datasets.MNIST('./data/', train=False, download=True,\n",
        "                               transform=torchvision.transforms.Compose([\n",
        "                                   torchvision.transforms.ToTensor(),\n",
        "                                   torchvision.transforms.Normalize(\n",
        "                                       (0.1307,), (0.3081,))\n",
        "                               ])),\n",
        "    batch_size=batch_size_test, shuffle=True)"
      ],
      "metadata": {
        "id": "f1rckM0BtJO9"
      },
      "execution_count": 18,
      "outputs": []
    },
    {
      "cell_type": "code",
      "source": [
        "#檢查dataset\n",
        "examples = enumerate(test_loader)\n",
        "batch_idx, (example_data, example_targets) = next(examples)\n",
        "print(example_targets)\n",
        "print(example_data.shape)"
      ],
      "metadata": {
        "colab": {
          "base_uri": "https://localhost:8080/"
        },
        "id": "wpyTif3xs1pK",
        "outputId": "987a1666-8e91-4611-af66-a386ac4610a6"
      },
      "execution_count": 19,
      "outputs": [
        {
          "output_type": "stream",
          "name": "stdout",
          "text": [
            "tensor([3, 9, 4, 9, 9, 0, 8, 3, 1, 2, 3, 9, 1, 3, 6, 6, 4, 4, 9, 7, 3, 7, 6, 3,\n",
            "        4, 8, 4, 6, 8, 6, 1, 1, 1, 1, 0, 0, 1, 8, 4, 0, 1, 2, 7, 9, 3, 2, 3, 8,\n",
            "        3, 2, 0, 4, 6, 6, 5, 5, 3, 0, 3, 7, 2, 4, 1, 6, 7, 5, 4, 1, 0, 8, 5, 9,\n",
            "        0, 9, 6, 1, 8, 0, 9, 3, 5, 7, 8, 5, 6, 4, 2, 2, 2, 1, 8, 4, 4, 2, 1, 5,\n",
            "        9, 3, 7, 0, 4, 1, 7, 2, 2, 6, 5, 1, 2, 6, 1, 3, 1, 2, 7, 4, 1, 3, 2, 9,\n",
            "        3, 7, 2, 7, 4, 7, 0, 0, 9, 0, 9, 5, 1, 6, 9, 8, 1, 4, 6, 7, 5, 5, 6, 4,\n",
            "        5, 4, 0, 7, 4, 1, 3, 8, 2, 6, 2, 2, 8, 4, 1, 9, 6, 7, 5, 0, 7, 4, 6, 2,\n",
            "        6, 8, 7, 9, 8, 0, 7, 4, 2, 4, 9, 0, 4, 6, 5, 6, 6, 4, 4, 8, 3, 8, 0, 9,\n",
            "        5, 6, 3, 3, 8, 4, 4, 6, 7, 8, 5, 3, 4, 3, 3, 3, 3, 1, 8, 8, 9, 1, 0, 1,\n",
            "        4, 1, 0, 2, 0, 6, 5, 1, 5, 8, 8, 1, 3, 9, 4, 5, 9, 2, 5, 6, 5, 8, 2, 7,\n",
            "        4, 1, 6, 8, 7, 9, 3, 3, 4, 4, 5, 4, 9, 8, 2, 9, 1, 6, 7, 1, 0, 5, 1, 9,\n",
            "        2, 1, 5, 2, 7, 9, 0, 0, 6, 0, 8, 7, 2, 6, 1, 7, 6, 1, 2, 1, 6, 3, 1, 4,\n",
            "        1, 7, 5, 9, 3, 8, 6, 3, 8, 7, 4, 2, 3, 2, 4, 3, 5, 1, 2, 4, 0, 9, 4, 0,\n",
            "        5, 0, 7, 3, 3, 1, 8, 4, 1, 2, 2, 6, 0, 2, 1, 6, 3, 6, 2, 1, 7, 3, 9, 9,\n",
            "        0, 7, 6, 6, 8, 0, 1, 1, 9, 9, 6, 9, 4, 7, 8, 7, 8, 5, 3, 2, 4, 4, 3, 3,\n",
            "        1, 9, 5, 3, 1, 8, 4, 7, 6, 0, 5, 9, 7, 5, 4, 0, 3, 6, 0, 0, 5, 9, 7, 4,\n",
            "        7, 7, 3, 3, 8, 0, 5, 8, 6, 3, 4, 9, 6, 2, 2, 9, 3, 9, 4, 3, 7, 8, 0, 3,\n",
            "        7, 5, 1, 7, 0, 1, 7, 1, 6, 8, 9, 0, 2, 0, 0, 2, 8, 5, 6, 2, 1, 6, 4, 2,\n",
            "        1, 0, 7, 8, 7, 9, 8, 3, 1, 5, 2, 5, 0, 3, 8, 4, 1, 8, 0, 2, 4, 4, 0, 0,\n",
            "        4, 2, 8, 7, 5, 8, 5, 3, 7, 3, 3, 3, 1, 2, 4, 5, 9, 8, 2, 7, 6, 8, 6, 1,\n",
            "        3, 4, 0, 3, 7, 0, 3, 2, 9, 6, 2, 1, 7, 8, 1, 6, 9, 8, 6, 8, 7, 0, 5, 2,\n",
            "        5, 4, 4, 8, 6, 6, 8, 6, 7, 0, 9, 4, 4, 9, 7, 5, 7, 5, 9, 0, 8, 3, 9, 8,\n",
            "        1, 3, 3, 1, 0, 0, 1, 2, 1, 7, 0, 7, 0, 9, 8, 3, 2, 2, 0, 3, 0, 3, 0, 3,\n",
            "        6, 1, 5, 8, 8, 7, 4, 5, 2, 6, 7, 8, 4, 8, 3, 9, 2, 6, 8, 7, 2, 3, 0, 4,\n",
            "        9, 7, 7, 5, 0, 3, 6, 2, 9, 5, 9, 3, 7, 3, 6, 0, 9, 6, 5, 1, 6, 3, 9, 0,\n",
            "        9, 8, 4, 1, 6, 4, 1, 9, 1, 4, 6, 9, 4, 4, 7, 2, 3, 5, 9, 9, 2, 3, 0, 9,\n",
            "        9, 0, 0, 2, 4, 5, 6, 4, 7, 9, 0, 9, 0, 8, 3, 3, 1, 6, 0, 8, 3, 9, 8, 0,\n",
            "        3, 9, 7, 4, 8, 0, 9, 9, 7, 4, 9, 0, 1, 9, 0, 3, 3, 6, 8, 2, 6, 0, 0, 8,\n",
            "        8, 7, 9, 7, 7, 6, 1, 6, 0, 1, 9, 9, 5, 6, 9, 6, 2, 2, 1, 1, 6, 0, 7, 8,\n",
            "        4, 2, 4, 7, 0, 8, 9, 5, 9, 6, 9, 1, 2, 2, 8, 1, 3, 6, 2, 0, 5, 1, 1, 6,\n",
            "        8, 7, 0, 6, 2, 5, 6, 1, 9, 8, 6, 8, 5, 1, 7, 3, 2, 0, 9, 2, 2, 5, 5, 3,\n",
            "        8, 1, 4, 9, 7, 7, 1, 8, 2, 8, 1, 1, 7, 4, 1, 6, 9, 2, 0, 3, 4, 2, 0, 5,\n",
            "        7, 5, 7, 2, 5, 6, 8, 2, 6, 7, 3, 1, 6, 2, 4, 2, 0, 2, 5, 4, 1, 1, 5, 7,\n",
            "        4, 5, 2, 0, 8, 0, 4, 7, 3, 8, 8, 2, 3, 2, 6, 5, 1, 0, 4, 1, 3, 9, 0, 2,\n",
            "        8, 9, 1, 2, 0, 8, 7, 4, 4, 0, 7, 1, 0, 8, 5, 3, 3, 3, 4, 0, 7, 4, 4, 5,\n",
            "        0, 2, 2, 7, 8, 1, 2, 8, 0, 3, 5, 4, 6, 7, 9, 0, 0, 7, 3, 9, 4, 9, 5, 1,\n",
            "        4, 4, 9, 8, 7, 3, 9, 0, 8, 7, 0, 8, 4, 5, 8, 1, 7, 4, 2, 1, 1, 5, 1, 1,\n",
            "        5, 5, 6, 4, 3, 7, 3, 3, 3, 0, 4, 7, 9, 0, 3, 9, 8, 0, 7, 8, 7, 0, 0, 3,\n",
            "        7, 7, 6, 8, 8, 9, 8, 0, 9, 4, 9, 3, 8, 6, 8, 2, 0, 4, 8, 4, 4, 4, 6, 8,\n",
            "        3, 6, 3, 5, 1, 9, 5, 4, 3, 8, 3, 1, 2, 3, 1, 1, 9, 9, 5, 5, 0, 4, 1, 6,\n",
            "        9, 4, 8, 6, 8, 1, 7, 2, 6, 9, 8, 2, 7, 2, 2, 4, 8, 9, 3, 6, 2, 2, 7, 8,\n",
            "        5, 7, 2, 0, 0, 2, 3, 1, 1, 5, 8, 5, 3, 9, 7, 6])\n",
            "torch.Size([1000, 1, 28, 28])\n"
          ]
        }
      ]
    },
    {
      "cell_type": "code",
      "source": [
        "import matplotlib.pyplot as plt\n",
        "fig = plt.figure()\n",
        "for i in range(6):\n",
        "  plt.subplot(2,3,i+1)\n",
        "  plt.tight_layout()\n",
        "  plt.imshow(example_data[i][0], cmap='gray', interpolation='none')\n",
        "  plt.title(\"Ground Truth: {}\".format(example_targets[i]))\n",
        "  plt.xticks([])\n",
        "  plt.yticks([])\n",
        "plt.show()"
      ],
      "metadata": {
        "colab": {
          "base_uri": "https://localhost:8080/",
          "height": 438
        },
        "id": "Kb_Yb1yctjOS",
        "outputId": "22fea0d2-03bc-491c-c33a-dbaf291ac97e"
      },
      "execution_count": 20,
      "outputs": [
        {
          "output_type": "display_data",
          "data": {
            "text/plain": [
              "<Figure size 640x480 with 6 Axes>"
            ],
            "image/png": "[encoded data removed]"
          },
          "metadata": {}
        }
      ]
    },
    {
      "cell_type": "code",
      "source": [
        "import torch.nn as nn\n",
        "import torch.nn.functional as F\n",
        "import torch.optim as optim\n",
        "\n",
        "class Net(nn.Module):\n",
        "    def __init__(self):\n",
        "        super(Net, self).__init__()\n",
        "        self.conv1 = nn.Conv2d(1, 10, kernel_size=5)\n",
        "        self.conv2 = nn.Conv2d(10, 20, kernel_size=5)\n",
        "        self.conv2_drop = nn.Dropout2d()\n",
        "        self.fc1 = nn.Linear(320, 50)\n",
        "        self.fc2 = nn.Linear(50, 10)\n",
        "    def forward(self, x):\n",
        "        x = F.relu(F.max_pool2d(self.conv1(x), 2))\n",
        "        x = F.relu(F.max_pool2d(self.conv2_drop(self.conv2(x)), 2))\n",
        "        x = x.view(-1, 320)\n",
        "        x = F.relu(self.fc1(x))\n",
        "        x = F.dropout(x, training=self.training)\n",
        "        x = self.fc2(x)\n",
        "        return F.log_softmax(x)"
      ],
      "metadata": {
        "id": "tZcamCSDtk10"
      },
      "execution_count": 21,
      "outputs": []
    },
    {
      "cell_type": "code",
      "source": [
        "network = Net()\n",
        "optimizer = optim.SGD(network.parameters(), lr=learning_rate,\n",
        "                      momentum=momentum)"
      ],
      "metadata": {
        "id": "apxKU-i1tnWy"
      },
      "execution_count": 22,
      "outputs": []
    },
    {
      "cell_type": "code",
      "source": [
        "train_losses = []\n",
        "train_counter = []\n",
        "test_losses = []\n",
        "test_counter = [i*len(train_loader.dataset) for i in range(n_epochs + 1)]"
      ],
      "metadata": {
        "id": "MwMX_d5atquy"
      },
      "execution_count": 23,
      "outputs": []
    },
    {
      "cell_type": "code",
      "source": [
        "def train(epoch):\n",
        "  network.train()\n",
        "  for batch_idx, (data, target) in enumerate(train_loader):\n",
        "    optimizer.zero_grad()\n",
        "    output = network(data)\n",
        "    loss = F.nll_loss(output, target)\n",
        "    loss.backward()\n",
        "    optimizer.step()\n",
        "    if batch_idx % log_interval == 0:\n",
        "      print('Train Epoch: {} [{}/{} ({:.0f}%)]\\tLoss: {:.6f}'.format(\n",
        "        epoch, batch_idx * len(data), len(train_loader.dataset),\n",
        "        100. * batch_idx / len(train_loader), loss.item()))\n",
        "      train_losses.append(loss.item())\n",
        "      train_counter.append(\n",
        "        (batch_idx*64) + ((epoch-1)*len(train_loader.dataset)))\n",
        "      torch.save(network.state_dict(), './model.pth')\n",
        "      torch.save(optimizer.state_dict(), './optimizer.pth')\n",
        "\n",
        "train(1)"
      ],
      "metadata": {
        "colab": {
          "base_uri": "https://localhost:8080/"
        },
        "id": "f5qC8tcFtr4L",
        "outputId": "e8e2b7e3-aaf4-419c-8829-d53994580e68"
      },
      "execution_count": 24,
      "outputs": [
        {
          "output_type": "stream",
          "name": "stderr",
          "text": [
            "<ipython-input-21-f14b5dfe1d84>:20: UserWarning: Implicit dimension choice for log_softmax has been deprecated. Change the call to include dim=X as an argument.\n",
            "  return F.log_softmax(x)\n"
          ]
        },
        {
          "output_type": "stream",
          "name": "stdout",
          "text": [
            "Train Epoch: 1 [0/60000 (0%)]\tLoss: 2.319280\n",
            "Train Epoch: 1 [640/60000 (1%)]\tLoss: 2.290954\n",
            "Train Epoch: 1 [1280/60000 (2%)]\tLoss: 2.318535\n",
            "Train Epoch: 1 [1920/60000 (3%)]\tLoss: 2.261000\n",
            "Train Epoch: 1 [2560/60000 (4%)]\tLoss: 2.259137\n",
            "Train Epoch: 1 [3200/60000 (5%)]\tLoss: 2.229576\n",
            "Train Epoch: 1 [3840/60000 (6%)]\tLoss: 2.196151\n",
            "Train Epoch: 1 [4480/60000 (7%)]\tLoss: 2.181698\n",
            "Train Epoch: 1 [5120/60000 (9%)]\tLoss: 2.088444\n",
            "Train Epoch: 1 [5760/60000 (10%)]\tLoss: 2.014765\n",
            "Train Epoch: 1 [6400/60000 (11%)]\tLoss: 1.818533\n",
            "Train Epoch: 1 [7040/60000 (12%)]\tLoss: 1.822772\n",
            "Train Epoch: 1 [7680/60000 (13%)]\tLoss: 1.838733\n",
            "Train Epoch: 1 [8320/60000 (14%)]\tLoss: 1.530556\n",
            "Train Epoch: 1 [8960/60000 (15%)]\tLoss: 1.738141\n",
            "Train Epoch: 1 [9600/60000 (16%)]\tLoss: 1.420971\n",
            "Train Epoch: 1 [10240/60000 (17%)]\tLoss: 1.369238\n",
            "Train Epoch: 1 [10880/60000 (18%)]\tLoss: 1.335397\n",
            "Train Epoch: 1 [11520/60000 (19%)]\tLoss: 1.182360\n",
            "Train Epoch: 1 [12160/60000 (20%)]\tLoss: 1.056649\n",
            "Train Epoch: 1 [12800/60000 (21%)]\tLoss: 1.085395\n",
            "Train Epoch: 1 [13440/60000 (22%)]\tLoss: 1.043788\n",
            "Train Epoch: 1 [14080/60000 (23%)]\tLoss: 0.979933\n",
            "Train Epoch: 1 [14720/60000 (25%)]\tLoss: 1.015183\n",
            "Train Epoch: 1 [15360/60000 (26%)]\tLoss: 0.937397\n",
            "Train Epoch: 1 [16000/60000 (27%)]\tLoss: 0.883366\n",
            "Train Epoch: 1 [16640/60000 (28%)]\tLoss: 0.790303\n",
            "Train Epoch: 1 [17280/60000 (29%)]\tLoss: 0.978384\n",
            "Train Epoch: 1 [17920/60000 (30%)]\tLoss: 0.981849\n",
            "Train Epoch: 1 [18560/60000 (31%)]\tLoss: 0.961201\n",
            "Train Epoch: 1 [19200/60000 (32%)]\tLoss: 0.976320\n",
            "Train Epoch: 1 [19840/60000 (33%)]\tLoss: 0.951693\n",
            "Train Epoch: 1 [20480/60000 (34%)]\tLoss: 0.700487\n",
            "Train Epoch: 1 [21120/60000 (35%)]\tLoss: 0.847359\n",
            "Train Epoch: 1 [21760/60000 (36%)]\tLoss: 0.646499\n",
            "Train Epoch: 1 [22400/60000 (37%)]\tLoss: 0.727109\n",
            "Train Epoch: 1 [23040/60000 (38%)]\tLoss: 0.849435\n",
            "Train Epoch: 1 [23680/60000 (39%)]\tLoss: 0.613159\n",
            "Train Epoch: 1 [24320/60000 (41%)]\tLoss: 0.982897\n",
            "Train Epoch: 1 [24960/60000 (42%)]\tLoss: 0.527990\n",
            "Train Epoch: 1 [25600/60000 (43%)]\tLoss: 0.722221\n",
            "Train Epoch: 1 [26240/60000 (44%)]\tLoss: 0.714018\n",
            "Train Epoch: 1 [26880/60000 (45%)]\tLoss: 0.817023\n",
            "Train Epoch: 1 [27520/60000 (46%)]\tLoss: 0.826285\n",
            "Train Epoch: 1 [28160/60000 (47%)]\tLoss: 0.581746\n",
            "Train Epoch: 1 [28800/60000 (48%)]\tLoss: 0.619269\n",
            "Train Epoch: 1 [29440/60000 (49%)]\tLoss: 0.816162\n",
            "Train Epoch: 1 [30080/60000 (50%)]\tLoss: 0.415688\n",
            "Train Epoch: 1 [30720/60000 (51%)]\tLoss: 0.516556\n",
            "Train Epoch: 1 [31360/60000 (52%)]\tLoss: 0.546946\n",
            "Train Epoch: 1 [32000/60000 (53%)]\tLoss: 0.556581\n",
            "Train Epoch: 1 [32640/60000 (54%)]\tLoss: 0.585459\n",
            "Train Epoch: 1 [33280/60000 (55%)]\tLoss: 0.687491\n",
            "Train Epoch: 1 [33920/60000 (57%)]\tLoss: 0.625588\n",
            "Train Epoch: 1 [34560/60000 (58%)]\tLoss: 0.433444\n",
            "Train Epoch: 1 [35200/60000 (59%)]\tLoss: 0.731643\n",
            "Train Epoch: 1 [35840/60000 (60%)]\tLoss: 0.520729\n",
            "Train Epoch: 1 [36480/60000 (61%)]\tLoss: 0.431021\n",
            "Train Epoch: 1 [37120/60000 (62%)]\tLoss: 0.661085\n",
            "Train Epoch: 1 [37760/60000 (63%)]\tLoss: 0.590926\n",
            "Train Epoch: 1 [38400/60000 (64%)]\tLoss: 0.600679\n",
            "Train Epoch: 1 [39040/60000 (65%)]\tLoss: 0.521783\n",
            "Train Epoch: 1 [39680/60000 (66%)]\tLoss: 0.477349\n",
            "Train Epoch: 1 [40320/60000 (67%)]\tLoss: 0.633068\n",
            "Train Epoch: 1 [40960/60000 (68%)]\tLoss: 0.552758\n",
            "Train Epoch: 1 [41600/60000 (69%)]\tLoss: 0.822104\n",
            "Train Epoch: 1 [42240/60000 (70%)]\tLoss: 0.538440\n",
            "Train Epoch: 1 [42880/60000 (71%)]\tLoss: 0.561818\n",
            "Train Epoch: 1 [43520/60000 (72%)]\tLoss: 0.677583\n",
            "Train Epoch: 1 [44160/60000 (74%)]\tLoss: 0.570780\n",
            "Train Epoch: 1 [44800/60000 (75%)]\tLoss: 0.460455\n",
            "Train Epoch: 1 [45440/60000 (76%)]\tLoss: 0.458421\n",
            "Train Epoch: 1 [46080/60000 (77%)]\tLoss: 0.649541\n",
            "Train Epoch: 1 [46720/60000 (78%)]\tLoss: 0.447023\n",
            "Train Epoch: 1 [47360/60000 (79%)]\tLoss: 0.496603\n",
            "Train Epoch: 1 [48000/60000 (80%)]\tLoss: 0.515545\n",
            "Train Epoch: 1 [48640/60000 (81%)]\tLoss: 0.385327\n",
            "Train Epoch: 1 [49280/60000 (82%)]\tLoss: 0.624006\n",
            "Train Epoch: 1 [49920/60000 (83%)]\tLoss: 0.449085\n",
            "Train Epoch: 1 [50560/60000 (84%)]\tLoss: 0.374284\n",
            "Train Epoch: 1 [51200/60000 (85%)]\tLoss: 0.647305\n",
            "Train Epoch: 1 [51840/60000 (86%)]\tLoss: 0.406169\n",
            "Train Epoch: 1 [52480/60000 (87%)]\tLoss: 0.341257\n",
            "Train Epoch: 1 [53120/60000 (88%)]\tLoss: 0.382736\n",
            "Train Epoch: 1 [53760/60000 (90%)]\tLoss: 0.574533\n",
            "Train Epoch: 1 [54400/60000 (91%)]\tLoss: 0.408767\n",
            "Train Epoch: 1 [55040/60000 (92%)]\tLoss: 0.439887\n",
            "Train Epoch: 1 [55680/60000 (93%)]\tLoss: 0.374103\n",
            "Train Epoch: 1 [56320/60000 (94%)]\tLoss: 0.743120\n",
            "Train Epoch: 1 [56960/60000 (95%)]\tLoss: 0.465267\n",
            "Train Epoch: 1 [57600/60000 (96%)]\tLoss: 0.502371\n",
            "Train Epoch: 1 [58240/60000 (97%)]\tLoss: 0.306819\n",
            "Train Epoch: 1 [58880/60000 (98%)]\tLoss: 0.695309\n",
            "Train Epoch: 1 [59520/60000 (99%)]\tLoss: 0.380143\n"
          ]
        }
      ]
    },
    {
      "cell_type": "code",
      "source": [
        "examples = enumerate(test_loader)\n",
        "batch_idx, (example_data, example_targets) = next(examples)\n",
        "with torch.no_grad():\n",
        "  output = network(example_data)\n",
        "fig = plt.figure()\n",
        "for i in range(6):\n",
        "  plt.subplot(2,3,i+1)\n",
        "  plt.tight_layout()\n",
        "  plt.imshow(example_data[i][0], cmap='gray', interpolation='none')\n",
        "  plt.title(\"Prediction: {}\".format(\n",
        "    output.data.max(1, keepdim=True)[1][i].item()))\n",
        "  plt.xticks([])\n",
        "  plt.yticks([])\n",
        "plt.show()"
      ],
      "metadata": {
        "colab": {
          "base_uri": "https://localhost:8080/",
          "height": 474
        },
        "id": "stf__2mut9cb",
        "outputId": "82511d5e-f3dd-41dd-ca30-d931ee669a16"
      },
      "execution_count": 27,
      "outputs": [
        {
          "output_type": "stream",
          "name": "stderr",
          "text": [
            "<ipython-input-21-f14b5dfe1d84>:20: UserWarning: Implicit dimension choice for log_softmax has been deprecated. Change the call to include dim=X as an argument.\n",
            "  return F.log_softmax(x)\n"
          ]
        },
        {
          "output_type": "display_data",
          "data": {
            "text/plain": [
              "<Figure size 640x480 with 6 Axes>"
            ],
            "image/png": "[encoded data removed]"
          },
          "metadata": {}
        }
      ]
    },
    {
      "cell_type": "code",
      "source": [],
      "metadata": {
        "id": "rg5QWpNjugD8"
      },
      "execution_count": null,
      "outputs": []
    }
  ]
}